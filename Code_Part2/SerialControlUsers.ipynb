{
 "cells": [
  {
   "cell_type": "code",
   "execution_count": 1,
   "metadata": {},
   "outputs": [],
   "source": [
    "import pandas as pd\n",
    "import numpy as np"
   ]
  },
  {
   "cell_type": "code",
   "execution_count": 2,
   "metadata": {},
   "outputs": [],
   "source": [
    "file = 'D:/Ash/UFL/Sem2/Blockchain Optimization and Applications/HW2/compressed/data/tx.csv'"
   ]
  },
  {
   "cell_type": "code",
   "execution_count": 3,
   "metadata": {},
   "outputs": [],
   "source": [
    "data = pd.read_csv(file, sep='\\t', header=None)"
   ]
  },
  {
   "cell_type": "code",
   "execution_count": 6,
   "metadata": {},
   "outputs": [],
   "source": [
    "data.columns = ['txID', 'blockID', 'n_inputs', 'n_outputs']"
   ]
  },
  {
   "cell_type": "code",
   "execution_count": 7,
   "metadata": {},
   "outputs": [],
   "source": [
    "opComm = pd.DataFrame(data.loc[data['n_outputs'] == 1])"
   ]
  },
  {
   "cell_type": "code",
   "execution_count": 8,
   "metadata": {},
   "outputs": [],
   "source": [
    "o1 = opComm.reset_index()"
   ]
  },
  {
   "cell_type": "code",
   "execution_count": 9,
   "metadata": {},
   "outputs": [
    {
     "data": {
      "text/plain": [
       "0                0\n",
       "1                1\n",
       "2                2\n",
       "3                3\n",
       "4                4\n",
       "            ...   \n",
       "751442     9999835\n",
       "751443     9999923\n",
       "751444     9999960\n",
       "751445     9999979\n",
       "751446    10000048\n",
       "Name: txID, Length: 751447, dtype: int64"
      ]
     },
     "execution_count": 9,
     "metadata": {},
     "output_type": "execute_result"
    }
   ],
   "source": [
    "o2 = pd.DataFrame(o1['txID'])\n",
    "o2['txID']"
   ]
  },
  {
   "cell_type": "code",
   "execution_count": 28,
   "metadata": {},
   "outputs": [],
   "source": [
    "sccs = 'D:/Ash/UFL/Sem2/Blockchain Optimization and Applications/HW2/compressed/data/addr_sccs.dat'"
   ]
  },
  {
   "cell_type": "code",
   "execution_count": 17,
   "metadata": {},
   "outputs": [],
   "source": [
    "file_out = 'D:/Ash/UFL/Sem2/Blockchain Optimization and Applications/HW2/compressed/data/txout.csv'"
   ]
  },
  {
   "cell_type": "code",
   "execution_count": 18,
   "metadata": {},
   "outputs": [],
   "source": [
    "data_out = pd.read_csv(file_out, sep='\\t', header=None)"
   ]
  },
  {
   "cell_type": "code",
   "execution_count": 19,
   "metadata": {},
   "outputs": [],
   "source": [
    "data_out.columns = ['txID', 'output_seq', 'addrID', 'sum']"
   ]
  },
  {
   "cell_type": "code",
   "execution_count": 20,
   "metadata": {},
   "outputs": [
    {
     "data": {
      "text/html": [
       "<div>\n",
       "<style scoped>\n",
       "    .dataframe tbody tr th:only-of-type {\n",
       "        vertical-align: middle;\n",
       "    }\n",
       "\n",
       "    .dataframe tbody tr th {\n",
       "        vertical-align: top;\n",
       "    }\n",
       "\n",
       "    .dataframe thead th {\n",
       "        text-align: right;\n",
       "    }\n",
       "</style>\n",
       "<table border=\"1\" class=\"dataframe\">\n",
       "  <thead>\n",
       "    <tr style=\"text-align: right;\">\n",
       "      <th></th>\n",
       "      <th>txID</th>\n",
       "      <th>output_seq</th>\n",
       "      <th>addrID</th>\n",
       "      <th>sum</th>\n",
       "    </tr>\n",
       "  </thead>\n",
       "  <tbody>\n",
       "    <tr>\n",
       "      <th>0</th>\n",
       "      <td>0</td>\n",
       "      <td>0</td>\n",
       "      <td>0</td>\n",
       "      <td>5000000000</td>\n",
       "    </tr>\n",
       "    <tr>\n",
       "      <th>1</th>\n",
       "      <td>1</td>\n",
       "      <td>0</td>\n",
       "      <td>1</td>\n",
       "      <td>5000000000</td>\n",
       "    </tr>\n",
       "    <tr>\n",
       "      <th>2</th>\n",
       "      <td>2</td>\n",
       "      <td>0</td>\n",
       "      <td>2</td>\n",
       "      <td>5000000000</td>\n",
       "    </tr>\n",
       "    <tr>\n",
       "      <th>3</th>\n",
       "      <td>3</td>\n",
       "      <td>0</td>\n",
       "      <td>3</td>\n",
       "      <td>5000000000</td>\n",
       "    </tr>\n",
       "    <tr>\n",
       "      <th>4</th>\n",
       "      <td>4</td>\n",
       "      <td>0</td>\n",
       "      <td>4</td>\n",
       "      <td>5000000000</td>\n",
       "    </tr>\n",
       "    <tr>\n",
       "      <th>...</th>\n",
       "      <td>...</td>\n",
       "      <td>...</td>\n",
       "      <td>...</td>\n",
       "      <td>...</td>\n",
       "    </tr>\n",
       "    <tr>\n",
       "      <th>23266802</th>\n",
       "      <td>10000052</td>\n",
       "      <td>1</td>\n",
       "      <td>8375218</td>\n",
       "      <td>3817318</td>\n",
       "    </tr>\n",
       "    <tr>\n",
       "      <th>23266803</th>\n",
       "      <td>10000053</td>\n",
       "      <td>0</td>\n",
       "      <td>8375218</td>\n",
       "      <td>9969240</td>\n",
       "    </tr>\n",
       "    <tr>\n",
       "      <th>23266804</th>\n",
       "      <td>10000053</td>\n",
       "      <td>1</td>\n",
       "      <td>6136481</td>\n",
       "      <td>1826853437</td>\n",
       "    </tr>\n",
       "    <tr>\n",
       "      <th>23266805</th>\n",
       "      <td>10000054</td>\n",
       "      <td>0</td>\n",
       "      <td>3523799</td>\n",
       "      <td>5000000</td>\n",
       "    </tr>\n",
       "    <tr>\n",
       "      <th>23266806</th>\n",
       "      <td>10000054</td>\n",
       "      <td>1</td>\n",
       "      <td>8375218</td>\n",
       "      <td>3726939</td>\n",
       "    </tr>\n",
       "  </tbody>\n",
       "</table>\n",
       "<p>23266807 rows × 4 columns</p>\n",
       "</div>"
      ],
      "text/plain": [
       "              txID  output_seq   addrID         sum\n",
       "0                0           0        0  5000000000\n",
       "1                1           0        1  5000000000\n",
       "2                2           0        2  5000000000\n",
       "3                3           0        3  5000000000\n",
       "4                4           0        4  5000000000\n",
       "...            ...         ...      ...         ...\n",
       "23266802  10000052           1  8375218     3817318\n",
       "23266803  10000053           0  8375218     9969240\n",
       "23266804  10000053           1  6136481  1826853437\n",
       "23266805  10000054           0  3523799     5000000\n",
       "23266806  10000054           1  8375218     3726939\n",
       "\n",
       "[23266807 rows x 4 columns]"
      ]
     },
     "execution_count": 20,
     "metadata": {},
     "output_type": "execute_result"
    }
   ],
   "source": [
    "data_out"
   ]
  },
  {
   "cell_type": "code",
   "execution_count": 22,
   "metadata": {},
   "outputs": [],
   "source": [
    "table_new = pd.DataFrame(data_out.loc[data_out['txID'].isin(o2['txID'])])"
   ]
  },
  {
   "cell_type": "code",
   "execution_count": 23,
   "metadata": {},
   "outputs": [],
   "source": [
    "addrT = pd.DataFrame(table_new['addrID'])"
   ]
  },
  {
   "cell_type": "code",
   "execution_count": 30,
   "metadata": {},
   "outputs": [],
   "source": [
    "file_path_add = 'D:/Ash/UFL/Sem2/Blockchain Optimization and Applications/HW2/compressed/data/addr_sccs.dat'"
   ]
  },
  {
   "cell_type": "code",
   "execution_count": 25,
   "metadata": {},
   "outputs": [],
   "source": [
    "data_addr = pd.read_csv(file_path_add, sep='\\t', header=None)"
   ]
  },
  {
   "cell_type": "code",
   "execution_count": 26,
   "metadata": {},
   "outputs": [],
   "source": [
    "data_addr.columns = ['addrID','address']"
   ]
  },
  {
   "cell_type": "code",
   "execution_count": 27,
   "metadata": {},
   "outputs": [],
   "source": [
    "addrUniq =pd.DataFrame(~addrT.loc[addrT['addrID'].isin(data_addr['addrID'])]) "
   ]
  },
  {
   "cell_type": "code",
   "execution_count": 29,
   "metadata": {},
   "outputs": [],
   "source": [
    "data_add = pd.read_csv(file_path_add, sep='\\t', header=None)"
   ]
  },
  {
   "cell_type": "code",
   "execution_count": 31,
   "metadata": {},
   "outputs": [],
   "source": [
    "data_add.columns = ['addrID','userID']"
   ]
  },
  {
   "cell_type": "markdown",
   "metadata": {},
   "source": [
    "data_add['userID'].count()"
   ]
  },
  {
   "cell_type": "code",
   "execution_count": 33,
   "metadata": {},
   "outputs": [
    {
     "data": {
      "text/plain": [
       "8385065"
      ]
     },
     "execution_count": 33,
     "metadata": {},
     "output_type": "execute_result"
    }
   ],
   "source": [
    "data_add['userID'].count()"
   ]
  },
  {
   "cell_type": "code",
   "execution_count": 34,
   "metadata": {},
   "outputs": [],
   "source": []
  },
  {
   "cell_type": "code",
   "execution_count": null,
   "metadata": {},
   "outputs": [],
   "source": []
  }
 ],
 "metadata": {
  "kernelspec": {
   "display_name": "Python 3",
   "language": "python",
   "name": "python3"
  },
  "language_info": {
   "codemirror_mode": {
    "name": "ipython",
    "version": 3
   },
   "file_extension": ".py",
   "mimetype": "text/x-python",
   "name": "python",
   "nbconvert_exporter": "python",
   "pygments_lexer": "ipython3",
   "version": "3.7.6"
  }
 },
 "nbformat": 4,
 "nbformat_minor": 4
}
